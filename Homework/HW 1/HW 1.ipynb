{
 "cells": [
  {
   "cell_type": "markdown",
   "metadata": {},
   "source": [
    "#Homework #1 "
   ]
  },
  {
   "cell_type": "markdown",
   "metadata": {},
   "source": [
    "##MAE 5093 - Numerical Engineering Analysis"
   ]
  },
  {
   "cell_type": "markdown",
   "metadata": {},
   "source": [
    "###Submitted to: Dr. Omar San"
   ]
  },
  {
   "cell_type": "markdown",
   "metadata": {},
   "source": [
    "###Author: Matt S Mitchell"
   ]
  },
  {
   "cell_type": "markdown",
   "metadata": {},
   "source": [
    "####Problem 1\n",
    "*Write a computer program for Lagrange interolation. Compare against Example 1.1 and discuss.*"
   ]
  },
  {
   "cell_type": "markdown",
   "metadata": {},
   "source": [
    "#####The code for Lagrange inerpolation is shown below in the following cells."
   ]
  },
  {
   "cell_type": "code",
   "execution_count": 1,
   "metadata": {
    "collapsed": true
   },
   "outputs": [],
   "source": [
    "import numpy as np\n",
    "import matplotlib.pyplot as plt\n",
    "from scipy.interpolate import PchipInterpolator\n",
    "%matplotlib inline"
   ]
  },
  {
   "cell_type": "code",
   "execution_count": 2,
   "metadata": {
    "collapsed": true
   },
   "outputs": [],
   "source": [
    "def lagrange(xd, fd, x):\n",
    "    f = 0.0\n",
    "    for j in range(len(xd)):\n",
    "        b = 1.0\n",
    "        for i in range(len(xd)):\n",
    "            if i != j:\n",
    "                b = b * ((x - xd[i])/(xd[j] - xd[i]))\n",
    "        f = f + fd[j] * b\n",
    "    return f"
   ]
  },
  {
   "cell_type": "code",
   "execution_count": 3,
   "metadata": {
    "collapsed": true
   },
   "outputs": [],
   "source": [
    "def Runge(x):\n",
    "    return (1 + 25 * x**2)**(-1)"
   ]
  },
  {
   "cell_type": "code",
   "execution_count": 4,
   "metadata": {
    "collapsed": false
   },
   "outputs": [],
   "source": [
    "xd = np.arange(-1.0, 1.2, 0.2)\n",
    "yd = Runge(xd)"
   ]
  },
  {
   "cell_type": "markdown",
   "metadata": {},
   "source": [
    "Here the Lagrange interpolation is validated against the Runge function for an x value of 0.7 and an f(x) value of -0.226 as indicated in the book."
   ]
  },
  {
   "cell_type": "code",
   "execution_count": 5,
   "metadata": {
    "collapsed": false
   },
   "outputs": [
    {
     "name": "stdout",
     "output_type": "stream",
     "text": [
      "-0.226196289063\n"
     ]
    }
   ],
   "source": [
    "print lagrange(xd, yd, 0.7)"
   ]
  },
  {
   "cell_type": "markdown",
   "metadata": {},
   "source": [
    "##### a) Using the data of Example 1.1 find the interpolated value at x = 0.9.\n",
    "\n",
    "The interpolated value for x = 0.9 is 1.578 as shown below."
   ]
  },
  {
   "cell_type": "code",
   "execution_count": 6,
   "metadata": {
    "collapsed": false
   },
   "outputs": [
    {
     "name": "stdout",
     "output_type": "stream",
     "text": [
      "1.57872099035\n"
     ]
    }
   ],
   "source": [
    "print lagrange(xd, yd, 0.9)"
   ]
  },
  {
   "cell_type": "markdown",
   "metadata": {},
   "source": [
    "##### b) Use Runge’s function to generate a table of 21 equally spaced data points. Interpolate these data using a Lagrange polynomial of order 20. Plot this polynomial and comment on the comparison between your result and the plot of Example 1.1.\n",
    "\n",
    "Below 21 equally spaced data points for the Runge function are shown. As expected the Lagrange polynomial predicts values near the center of the data, however, it oscillates towards the extents of the data."
   ]
  },
  {
   "cell_type": "code",
   "execution_count": 7,
   "metadata": {
    "collapsed": false
   },
   "outputs": [],
   "source": [
    "xd1 = np.arange(-1.0,1.1,0.1)\n",
    "yd1 = Runge(xd1)\n",
    "\n",
    "x_poly = np.arange(-1.0,1.005, 0.005)\n",
    "y_poly = lagrange(xd1, yd1, x_poly)"
   ]
  },
  {
   "cell_type": "code",
   "execution_count": 8,
   "metadata": {
    "collapsed": false
   },
   "outputs": [
    {
     "data": {
      "image/png": "[encoded data removed]",
      "text/plain": [
       "<matplotlib.figure.Figure at 0x5724e90>"
      ]
     },
     "metadata": {},
     "output_type": "display_data"
    }
   ],
   "source": [
    "plt.plot(xd1, yd1, marker='.', linestyle = 'None', label=\"Runge Function\")\n",
    "plt.plot(x_poly, y_poly, label=\"Lagrange Polynomial\")\n",
    "plt.xlim([-1.0,1.0])\n",
    "plt.ylim([-0.5, 2.0])\n",
    "plt.legend(numpoints=1, loc='upper center')\n",
    "plt.grid()\n",
    "plt.show()"
   ]
  },
  {
   "cell_type": "markdown",
   "metadata": {},
   "source": [
    "####Problem 2"
   ]
  },
  {
   "cell_type": "markdown",
   "metadata": {},
   "source": [
    "#####Derive an expression for the derivative of a Lagrange polynomial of order n at a point x between the data points."
   ]
  },
  {
   "cell_type": "markdown",
   "metadata": {},
   "source": [
    "The Lagrange polynomial is expressed as follows:\n",
    "$$P(x) = \\sum_{j=0}^{n} y_j \\prod_{i=0; j \\neq i}^{n} \\frac{x-x_i}{x_j-x_i}$$\n",
    "\n",
    "To take the derivative of the funcion a small $n=2$ example was used.\n",
    "\n",
    "$$P(x) = y_0 \\left( \\frac{x}{x_0-x_1} - \\frac{x_1}{x_0-x_1} \\right) \\left( \\frac{x}{x_0-x_2} - \\frac{x_2}{x_0-x_2} \\right) $$\n",
    "$$ + y_1 \\left( \\frac{x}{x_1-x_0} - \\frac{x_0}{x_1-x_0} \\right) \\left( \\frac{x}{x_1-x_2} - \\frac{x_2}{x_1-x_2} \\right) $$\n",
    "$$ + y_2 \\left( \\frac{x}{x_2-x_0} - \\frac{x_0}{x_2-x_0} \\right) \\left( \\frac{x}{x_2-x_1} - \\frac{x_1}{x_2-x_1} \\right) $$\n",
    "\n",
    "From there, after taking the derivative the pattern was observable.\n",
    "\n",
    "$$P'(x) = \\sum_{j=0}^{n} y_j \\prod_{i=0; j \\neq i}^{n} \\frac{1}{x_j-x_i} $$"
   ]
  },
  {
   "cell_type": "markdown",
   "metadata": {},
   "source": [
    "####Problem 7\n",
    "\n",
    "The tuition for 12 units at St. Anford University has been increasing from\n",
    "1998 to 2008 as shown in the table below:\n",
    "\n",
    "| Year| Tuition per year ($) |\n",
    "|-----------------------|------------------|\n",
    "| 1998                  | 21,300          |\n",
    "| 1999                  | 23,057          |\n",
    "| 2000                  | 24,441          |\n",
    "| 2001                  | 25,917          |\n",
    "| 2002                  | 27,204          |\n",
    "| 2003                  | 28,564          |\n",
    "| 2004                  | 29,847          |\n",
    "| 2005                  | 31,200          |\n",
    "| 2006                  | 32,994          |\n",
    "| 2007                  | 34,800          |\n",
    "| 2008                  | 36,030          |"
   ]
  },
  {
   "cell_type": "markdown",
   "metadata": {},
   "source": [
    "#####a) Plot the given data points and intuitively interpolate (draw) a smooth curve through them."
   ]
  },
  {
   "cell_type": "code",
   "execution_count": 9,
   "metadata": {
    "collapsed": false
   },
   "outputs": [
    {
     "data": {
      "image/png": "[encoded data removed]",
      "text/plain": [
       "<matplotlib.figure.Figure at 0x5750d70>"
      ]
     },
     "metadata": {},
     "output_type": "display_data"
    }
   ],
   "source": [
    "x_tuit = np.array(range(1998,2009))\n",
    "y_tuit = np.array([21300, 23057, 24441, 25917, 27204, 28564, 29847, 31200, 32994, 34800, 36030])\n",
    "\n",
    "plt.plot(x_tuit, y_tuit, marker='.', label=\"Tuition Data\")\n",
    "plt.legend(numpoints=1, loc='lower right')\n",
    "plt.grid()\n",
    "plt.show()"
   ]
  },
  {
   "cell_type": "markdown",
   "metadata": {},
   "source": [
    "#####b) Interpolate the data with the Lagrange polynomial. Plot the polynomial and the data points. Use the polynomial to predict the tuition in 2010. This is an extrapolation problem; discuss the utility of Lagrange polynomials for extrapolation.\n",
    "\n",
    "#####c) Repeat b) with a cubic spline interpolation and compare your results."
   ]
  },
  {
   "cell_type": "code",
   "execution_count": 10,
   "metadata": {
    "collapsed": false
   },
   "outputs": [],
   "source": [
    "x_tuit_poly = np.arange(1998, 2010.05, 0.05)\n",
    "y_tuit_poly = lagrange(x_tuit, y_tuit, x_tuit_poly)\n",
    "\n",
    "f = PchipInterpolator(x_tuit, y_tuit, extrapolate=True)\n",
    "y_tuit_spline = f(x_tuit_poly)"
   ]
  },
  {
   "cell_type": "code",
   "execution_count": 11,
   "metadata": {
    "collapsed": false
   },
   "outputs": [
    {
     "data": {
      "image/png": "[encoded data removed]",
      "text/plain": [
       "<matplotlib.figure.Figure at 0x58d6e90>"
      ]
     },
     "metadata": {},
     "output_type": "display_data"
    }
   ],
   "source": [
    "plt.plot(x_tuit, y_tuit, marker='.', label=\"Tuition Data\", linestyle='none')\n",
    "plt.plot(x_tuit_poly, y_tuit_poly, label=\"Lagrange Polynomial\" )\n",
    "plt.plot(x_tuit_poly, y_tuit_spline, label=\"3rd Order Spline\", linestyle='--')\n",
    "plt.legend(numpoints=1, loc='lower right')\n",
    "plt.xlabel(\"Year\")\n",
    "plt.ylabel(\"St. Anford University Tution\")\n",
    "plt.grid()\n",
    "plt.show()"
   ]
  },
  {
   "cell_type": "markdown",
   "metadata": {},
   "source": [
    "b) ans: Using the Lagrange polynomial for extrapolation and data prediction beyond the data range is a bad idea. I wish tuition rates would drop, but sadly that is not the case. If we were to use the Lagrange polynomial for extrapolation, the tuition rate would be around $12,000.\n",
    "\n",
    "c) ans: Cubic spline interpolation gave \"better\" results, however, the results are still not acceptable.\n",
    "\n",
    "Note: I spent several hours replicating the spline code you provided, however, I was not sucessful at making it run. I ran into problems getting the ranges to replicate the same fortranic type behavior. With a little more time I am sure I could get it running. For this and the following problem I used the Scipy built-in spline interpolation features."
   ]
  },
  {
   "cell_type": "markdown",
   "metadata": {},
   "source": [
    "####Problem 8\n",
    "\n",
    "The concentration of a certain toxin in a system of lakes downwind of an industrial area has been monitored very accurately at intervals from 1993 to 2007 as shown in the table below. It is believed that the concentration has varied smoothly between these data points.\n",
    "\n",
    "| Year  | Toxin Concentration |\n",
    "|-------|---------------------|\n",
    "| 1993  | 12.0                |\n",
    "| 1995  | 12.7                |\n",
    "| 1997  | 13.0                |\n",
    "| 1999  | 15.2                |\n",
    "| 2001  | 18.2                |\n",
    "| 2003  | 19.8                |\n",
    "| 2005  | 24.1                |\n",
    "| 2007  | 28.1                |"
   ]
  },
  {
   "cell_type": "markdown",
   "metadata": {},
   "source": [
    "##### a) Interpolate the data with the Lagrange polynomial. Plot the polynomial and the data points. Use the polynomial to predict the condition of the lakes in 2009. Discuss this prediction.\n",
    "\n",
    "##### b) Interpolation may also be used to fill “holes” in the data. Say the data from 1997 and 1999 disappeared. Predict these values using the Lagrange polynomialfitted through the other known data points.\n",
    "\n",
    "##### c) Repeat (b) with a cubic spline interpolation. Compare and discuss your results."
   ]
  },
  {
   "cell_type": "code",
   "execution_count": 12,
   "metadata": {
    "collapsed": false
   },
   "outputs": [],
   "source": [
    "x_lake = np.arange(1993,2009,2)\n",
    "y_lake = np.array([12.0, 12.7, 13.0, 15.2, 18.2, 19.8, 24.1, 28.1])\n",
    "\n",
    "x_lake_poly = np.arange(1993, 2009.05, 0.05)\n",
    "y_lake_poly = lagrange(x_lake, y_lake, x_lake_poly)\n",
    "\n",
    "f = PchipInterpolator(x_lake, y_lake, extrapolate=True)\n",
    "y_lake_spline = f(x_lake_poly)"
   ]
  },
  {
   "cell_type": "code",
   "execution_count": 13,
   "metadata": {
    "collapsed": false
   },
   "outputs": [
    {
     "data": {
      "image/png": "[encoded data removed]",
      "text/plain": [
       "<matplotlib.figure.Figure at 0x5a76570>"
      ]
     },
     "metadata": {},
     "output_type": "display_data"
    }
   ],
   "source": [
    "plt.plot(x_lake, y_lake, marker='.', label=\"Toxicity Data\", linestyle='none')\n",
    "plt.plot(x_lake_poly, y_lake_poly, label=\"Lagrange Polynomial\" )\n",
    "plt.plot(x_lake_poly, y_lake_spline, label=\"3rd Order Spline\", linestyle='--')\n",
    "plt.legend(numpoints=1, loc='lower right')\n",
    "plt.xlabel(\"Year\")\n",
    "plt.ylabel(\"Toxicity Concentration\")\n",
    "plt.xlim([1993, 2009])\n",
    "plt.grid()\n",
    "plt.show()"
   ]
  },
  {
   "cell_type": "code",
   "execution_count": 14,
   "metadata": {
    "collapsed": false
   },
   "outputs": [],
   "source": [
    "x_lake_appended = np.array([1993, 1995, 2001, 2003, 2005, 2007])\n",
    "y_lake_appended = np.array([12.0, 12.7, 18.2, 19.8, 24.1, 28.1])\n",
    "\n",
    "x_lake_poly = np.arange(1993, 2009.05, 0.05)\n",
    "y_lake_poly = lagrange(x_lake_appended, y_lake_appended, x_lake_poly)\n",
    "\n",
    "f = PchipInterpolator(x_lake_appended, y_lake_appended, extrapolate=True)\n",
    "y_lake_spline = f(x_lake_poly)"
   ]
  },
  {
   "cell_type": "code",
   "execution_count": 15,
   "metadata": {
    "collapsed": false
   },
   "outputs": [
    {
     "data": {
      "image/png": "[encoded data removed]",
      "text/plain": [
       "<matplotlib.figure.Figure at 0x6904110>"
      ]
     },
     "metadata": {},
     "output_type": "display_data"
    }
   ],
   "source": [
    "plt.plot(x_lake, y_lake, marker='.', label=\"Toxicity Data\", linestyle='none')\n",
    "plt.plot(x_lake_poly, y_lake_poly, label=\"Lagrange Polynomial\" )\n",
    "plt.plot(x_lake_poly, y_lake_spline, label=\"3rd Order Spline\", linestyle='--')\n",
    "plt.legend(numpoints=1, loc='lower right')\n",
    "plt.xlabel(\"Year\")\n",
    "plt.ylabel(\"Toxicity Concentration\")\n",
    "plt.xlim([1993, 2009])\n",
    "plt.grid()\n",
    "plt.show()"
   ]
  },
  {
   "cell_type": "markdown",
   "metadata": {},
   "source": [
    "a) ans: As with the previous example using the Lagrange polynomial for extrapolating data is not possible. The data trends up, while the Lagrange polynomial drops off sharply.\n",
    "\n",
    "b) ans: Using the Lagrange polynomial to fill data, at least in this instance, does not appear to be sucessful. Using the polynomial would estimate toxicity levels well above the measure data.\n",
    "\n",
    "c) ans: Using the spline in this instance appears to predict the data better than the Lagrange polynomial. "
   ]
  },
  {
   "cell_type": "markdown",
   "metadata": {},
   "source": [
    "##### Appendix: Spline code-not quite working"
   ]
  },
  {
   "cell_type": "code",
   "execution_count": 16,
   "metadata": {
    "collapsed": false
   },
   "outputs": [],
   "source": [
    "def spline(xd, fd, x):\n",
    "    # Initialize\n",
    "    nd = len(xd)\n",
    "    g = np.zeros(nd)\n",
    "    a = np.zeros(nd)\n",
    "    b = np.zeros(nd)\n",
    "    c = np.zeros(nd)\n",
    "    r = np.zeros(nd)\n",
    "    z = np.zeros(nd)\n",
    "    \n",
    "    for i in range(1, nd-1, 1):\n",
    "        a[i] = (xd[i]-xd[i-1])/6.0\n",
    "        b[i] = (xd[i+1]-xd[i-1])/3.0\n",
    "        c[i] = (xd[i+1]-xd[i])/6.0\n",
    "        r[i] = (fd[i+1]-fd[i])/(xd[i+1]-xd[i]) - (fd[i]-fd[i-1])/(xd[i]-xd[i-1])\n",
    "\n",
    "    r[1] = r[1] - a[1]*g[0]\n",
    "    r[nd-1] = r[nd-1] - c[nd-1]*g[nd]\n",
    "    \n",
    "    # Call Thomas algorithm\n",
    "    z = tdma(a, b, c, r, 1, nd-1)\n",
    "    \n",
    "    # second derivatives\n",
    "    for i in range1(1, nd-1, 1):\n",
    "        g[i] = z[i]\n",
    "        \n",
    "    # construct the cubic spline polynomials inside the domain    \n",
    "    for i in range1(0,nd-1, 1):\n",
    "        if (x >= xd[i]) and x <= xd[i+1]:\n",
    "            d = xd[i+1]-xd[i]\n",
    "            \n",
    "            f = g[i]/6.0*(((xd[i+1]-x)**3)/d - d*(xd[i+1]-x)) \n",
    "            + g[i+1]/6.0*(((x-xd[i])**3)/d - d*(x-xd[i])) \n",
    "            + fd[i]*(xd[i+1]-x)/d + fd[i+1]*(x-xd[i])/d\n",
    "            \n",
    "    \n",
    "    # outside the domain\n",
    "    if x <= xd[0]:\n",
    "        i = 0\n",
    "        \n",
    "        d = xd[i+1]-xd[i]\n",
    "        \n",
    "        f = g[i]/6.0*(((xd[i+1]-x)**3)/d - d*(xd[i+1]-x)) \n",
    "        + g[i+1]/6.0*(((x-xd[i])**3)/d - d*(x-xd[i])) \n",
    "        + fd[i]*(xd[i+1]-x)/d + fd[i+1]*(x-xd[i])/d\n",
    "    \n",
    "    elif x >= xd[nd]:\n",
    "        i = nd-1\n",
    "        \n",
    "        d = xd[i+1] - xd[i]\n",
    "        \n",
    "        f = g[i]/6.0*(((xd[i+1]-x)**3)/d - d*(xd[i+1]-x)) \n",
    "        + g[i+1]/6.0*(((x-xd[i])**3)/d - d*(x-xd[i])) \n",
    "        + fd[i]*(xd[i+1]-x)/d + fd[i+1]*(x-xd[i])/d"
   ]
  },
  {
   "cell_type": "code",
   "execution_count": 17,
   "metadata": {
    "collapsed": false
   },
   "outputs": [],
   "source": [
    "def tdma(a, b, c, r, s, e):\n",
    "    # Tridagonal matrix algorithm (TDMA)\n",
    "    # Thomas Algorithm\n",
    "    # a: lower diagonal\n",
    "    # b: main diagonal\n",
    "    # c: upper diagonal\n",
    "    # r: souce vector\n",
    "    # x: solution vector\n",
    "    #    for indicies s(start) to e(end)\n",
    "    #    i: s,s+1,s+2,...,i,...,e\n",
    "    #\n",
    "    # Note: a(s) and c(e) are dummy coefficients, not used.\n",
    "    \n",
    "    # forward elmination phase\n",
    "    for i in range1(s+1, e, 1):\n",
    "        b[i] = b[i] - a[i]/b[i-1]*c[i-1]\n",
    "        r[i] = r[i] - a[i]/b[i-1]*r[i-1]\n",
    "    # backward elmination phase\n",
    "    x[e] = r[e]/b[e]\n",
    "    for i in range1(e-1,s,-1):\n",
    "        x[i] = (r[i] - c[i] * x[i+1])/b[i]\n",
    "        \n",
    "    return x"
   ]
  },
  {
   "cell_type": "code",
   "execution_count": 18,
   "metadata": {
    "collapsed": true
   },
   "outputs": [],
   "source": [
    "range1 = lambda start, end, interval: range(start, end+1, interval)"
   ]
  }
 ],
 "metadata": {
  "kernelspec": {
   "display_name": "Python 2",
   "language": "python",
   "name": "python2"
  },
  "language_info": {
   "codemirror_mode": {
    "name": "ipython",
    "version": 2
   },
   "file_extension": ".py",
   "mimetype": "text/x-python",
   "name": "python",
   "nbconvert_exporter": "python",
   "pygments_lexer": "ipython2",
   "version": "2.7.9"
  }
 },
 "nbformat": 4,
 "nbformat_minor": 0
}
